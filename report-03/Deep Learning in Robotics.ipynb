{
 "cells": [
  {
   "cell_type": "markdown",
   "metadata": {},
   "source": [
    "# Deep Learning in Robotics\n",
    "\n",
    "We will be summarizing and reviewing the paper [*Deep Learning in Robotics: A Review of Recent Research*](https://arxiv.org/pdf/1707.07217.pdf) (2017) by Harry A. Pierson and Michael S. Gashler."
   ]
  },
  {
   "cell_type": "markdown",
   "metadata": {},
   "source": [
    "## Introduction"
   ]
  },
  {
   "cell_type": "markdown",
   "metadata": {},
   "source": [
    "When I went searching for an article or paper that summarized the field of deep learning in robotics, I was supprised to find very little. The paper being discussed here was the only academic paper of its kind that had been published at least somewhat recently. Blog posts or other kinds of articles were also lacking. This is supprising given how actively robotics uses machine learnig tools and deep learning in particular, and with how much potential it holds. I wanted a good overview, so I moved ahead with what was apparently my only choice. I will summarize the paper below, and then end with some of my own thoughts about the paper and the material."
   ]
  },
  {
   "cell_type": "markdown",
   "metadata": {},
   "source": [
    "## Summary"
   ]
  },
  {
   "cell_type": "markdown",
   "metadata": {},
   "source": [
    "The authors begin by giving an overview of deep learning. This includes its history and some low-level technical discussions of how it works. We won't discuss this too much, but we will point out a few aspects that are specific to the field of robotics.\n",
    "\n",
    "Deep learning has been applied to robotics almost from the beginning. However, both the primitive state of deep learning and hardware roadblocks prevented most real progress. It was understood that the theory of deep learning held promise, but the implementation was not yet possible. As things began to advance so to did the capabilites with respect to robotics. \n",
    "\n",
    "The authors identify four major Deep Neural Network (DNN) structures that have been (or could be) very sucessful in robotics. The \"Function Approximator\", as they call it, is the standard sequential network. Training data in the from of labeled examples are used to build a model that can accurately predict or classify based on an input. Autoencoders use one DNN to transform an input into a low level representation, and then another to reconstruct in the reverse direction. Recurrent Neural Networks (RNNs) incorporate a temporal structure into their function. Not only is the current state an input, but previous state information is as well. Finally, policy models learn a control policy which is essentially an action given the current state. These may have a similar structure to the sequential models, but can be trained very differently.\n",
    "\n",
    "The one specific aspect of a DNNs that the authors do consider in more detail are Convolutional Neural Networks (CNNs). This is because CNNs are very capable in many robotic settings. Computer vision has an extraordinary amount of applications to robotics making CNNs very important. Other spatio-temporal data such as audio can also be tackled with CNNs, and have applications to robotic interaction."
   ]
  },
  {
   "cell_type": "markdown",
   "metadata": {},
   "source": [
    "When it comes to deep learning in robotics the authors discuss a number of long term goals held by the robotics community. Human-like movement, efective human robot interaction, and mobile navigation are among them. The authors then present seven more basic challenges that are integral in achieving the above goals where DNNs may be impactful. We will discuss each callenge briefly.\n",
    "\n",
    "- **Learning complex, high-dimensional, and novel dynamics**: Robots are complex dynamical systems that are often full of uncertainty, and operate in complex dynamical systems. Being able to learn the dynamics of both aspects, and importantly being able to adapt to new situations, is required for complex robotic interations.\n",
    "\n",
    "- **Learning control policies in dynamic environments**: Understanding the dynamics of a situation is only one part of the puzzle. Making decisions in such dynamic situations is the next step, and in robotics this can have extreme safety implications.\n",
    "\n",
    "- **Advanced Manipulation**: Robot dexterity is generally poor, but is very important if robots want to interact with the environment.\n",
    "\n",
    "- **Advanced object recognition**: This is an area where DNNs (specifically CNNs) have had a lot of success, but further advances are needed. Detection, classification, and description of objects is important for interacting with the environment.\n",
    "\n",
    "- **Interperting and anticipating human actions**: Humans can be very complex and unpredictable, but if they are to work alongside robots then robots need a better understanding of their dynamics.\n",
    "\n",
    "- **Sensor fusion and dimensionality reduction**: Robots often have a large number of data available to them through a plethora of sensors. Combining this data and parsing it in a useful way can make that data much more powerful.\n",
    "\n",
    "- **High level task planning**: The example used by the authors is the command for the robot to \"grab the milk\". This simple command requires has to properly execute and distribute a number of tasks. It must navigate, identify, and grasp.\n",
    "\n",
    "If each one of these challenges can be effectively solved, then the major goals above will be achieved as a combination of them. The authors make a few interesting observations about the challenges listed above, the DNN structures listed above, and research in that area. Specifically, we see that most of the research uses the sequential model as it is the easiest to learn and understand. As well, some challenges are lacking any research at all with certain model structures. High level planning in particular is lacking almost any research independent of the model."
   ]
  },
  {
   "cell_type": "markdown",
   "metadata": {},
   "source": [
    "From here the authors seek to describe research in robotics based deep learning as a function of the basic model types described above. The bulk of this research lies uses the sequential model, but all models have had at least some investigation. The sequential model has seen lots of application to object recognition, manipulation, and data fusion. The generative model has been applied to achieve dimensionality reduction in data fusion or complex dynamical systems. Recurrent networks have also had been used in complex dynamical systems, human interaction, and high level planning. Finally, policy learning has research in dynamic controls and task planning. "
   ]
  },
  {
   "cell_type": "markdown",
   "metadata": {},
   "source": [
    "Currently there are two major shortcomings to deep learning in robotics. First, enormous amounts of data are necessary for effective deep learning, but is difficult to obtain in robotics. Specifically, it is very time intensive and can be fiscally expensive as well. Simulation, transfer learning, and data augmentation are all tools that could have significant application here. As well, the hardware constraints of robots are limiting to deep learning. Computation and memory efficiency, energy consumption, weight, and failure are all big problems. Techniques for effectively limiting these problems will be important moving forward. Much sucess has already been had with reducing the size of DNNs, but further steps will need to be made with some of them independent of deep learning. "
   ]
  },
  {
   "cell_type": "markdown",
   "metadata": {},
   "source": [
    "## Conclusion"
   ]
  },
  {
   "cell_type": "markdown",
   "metadata": {},
   "source": [
    "The authors and the paper do a good job of describing the challenges in robotics where deep learning could be effective. As well, they do a good job of illuminating the challenges of applying deep learning to robotics. For me, this is espeacially useful in choosing a direction to look into further. However, the discussion sorrounding the active research was a little lacking. The general idea that some progress has been made, but there is much left to do is mostly all that gets across. I think in reality more specific investigation is necessary to really understand the current lay of the land. "
   ]
  }
 ],
 "metadata": {
  "kernelspec": {
   "display_name": "Python 3",
   "language": "python",
   "name": "python3"
  },
  "language_info": {
   "codemirror_mode": {
    "name": "ipython",
    "version": 3
   },
   "file_extension": ".py",
   "mimetype": "text/x-python",
   "name": "python",
   "nbconvert_exporter": "python",
   "pygments_lexer": "ipython3",
   "version": "3.8.5"
  }
 },
 "nbformat": 4,
 "nbformat_minor": 4
}
