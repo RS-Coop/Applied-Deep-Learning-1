{
 "cells": [
  {
   "cell_type": "markdown",
   "metadata": {},
   "source": [
    "# Deep Learning for Robotics Week 02: \n",
    "## A Model for Inverse Kinematics and Controls"
   ]
  },
  {
   "cell_type": "markdown",
   "metadata": {},
   "source": [
    "### Tutorial"
   ]
  },
  {
   "cell_type": "markdown",
   "metadata": {},
   "source": [
    "In the previous weeks tutorial we had looked into a neural network model for a prediction task. Namely, to predict whether or not a collision was about to occur. However, we can also use deep learning to control the robot after it has made some decision. The canoncial example of this (at least in my opinion) is grasping. Given some sort of robotic appendage with an end effector capable of grasping an object, how can we accomplish that, and in this case how can we accomplish that with a neural network? The goal may be easy to specify -- reach out and grab that cylinder -- but doing it effectively and generalizing to new situations is difficult."
   ]
  },
  {
   "cell_type": "markdown",
   "metadata": {},
   "source": [
    "In this grasping problem we have two spaces we are worried about. Task space is the typical cartesian space describing the position of an object relative to some origin. Configuration space can be higher dimensional and describes the joint angles of the robot or robotic piece. In order to move the end-effector to some goal position we need to be able to describe the changes in its joint angles. This is what we call Inverse Kinematics (IK). Forward Kinematics (FK) is the opposite process, from joint angles to Euclidean location."
   ]
  },
  {
   "cell_type": "markdown",
   "metadata": {},
   "source": [
    "We can easily solve the problem of IK algebraically if we consider low dimensionality siutations, both in task space and configuration case. When we increase the dimensionality and start to consider other constraints on the problem (i.e. are certain poses achievable or useful) it becomes much harder. This is where deep learning will hopefully come to save the day. \n",
    "\n",
    "We will only be considering the IK problem here, so our network input will be the end effector position and the output will be the joint angle pose. The dimensionality of the input can only be 2 or 3, while the output dimensionality depends on the number of joints in the robot. If the robot has many degrees of freedom then this configuration dimensionality can be huge. However, even though your human arm may have 7 degrees of freedom (which it does), most of the poses that are achievable are not unique."
   ]
  },
  {
   "cell_type": "markdown",
   "metadata": {},
   "source": [
    "### Code (Description and Changes)"
   ]
  },
  {
   "cell_type": "markdown",
   "metadata": {},
   "source": [
    "The class provides a a number of files to be edited by students and two somewhat separate exercises. For the last week of this tutorial I had converted everything into TensorFlow and made it so the simulation could be run in Jupyter, but wanting to move on to different material I will keep some of this weeks material in PyTorch."
   ]
  },
  {
   "cell_type": "markdown",
   "metadata": {},
   "source": [
    "### Exercise: Dropout and Stochastic Forward Pass"
   ]
  },
  {
   "cell_type": "markdown",
   "metadata": {},
   "source": [
    "In this exercise we are examining the effect that dropout and stochastic forward passes have on the effectieness of a model trained to identify MNIST handwritten digits. Stochastic forward pass is just the process of using dropout at inference time and obtaining a distribution of outputs from multiple passes. From here you then decide what you take as the output. I have completely rewritten this exercise using TensorFlow in this Jupyter notebook."
   ]
  },
  {
   "cell_type": "code",
   "execution_count": 65,
   "metadata": {},
   "outputs": [],
   "source": [
    "import tensorflow as tf\n",
    "import matplotlib.pyplot as plt\n",
    "import numpy as np\n",
    "from seaborn import histplot"
   ]
  },
  {
   "cell_type": "markdown",
   "metadata": {},
   "source": [
    "First we load the MNIST data set, examine it, and preprocess it slightly."
   ]
  },
  {
   "cell_type": "code",
   "execution_count": 66,
   "metadata": {},
   "outputs": [
    {
     "name": "stdout",
     "output_type": "stream",
     "text": [
      "Training Data: (60000, 28, 28)\n",
      "Test Data: (10000, 28, 28)\n"
     ]
    }
   ],
   "source": [
    "#Load the MNIST data set\n",
    "dataset = tf.keras.datasets.mnist\n",
    "(train_data, train_labels), (test_data, test_labels) = dataset.load_data()\n",
    "\n",
    "print('Training Data:', train_data.shape)\n",
    "print('Test Data:', test_data.shape)"
   ]
  },
  {
   "cell_type": "code",
   "execution_count": 67,
   "metadata": {},
   "outputs": [
    {
     "name": "stdout",
     "output_type": "stream",
     "text": [
      "Image Label: 5 Image Shape: (28, 28)\n"
     ]
    },
    {
     "data": {
      "image/png": "[encoded data removed]",
      "text/plain": [
       "<Figure size 432x288 with 2 Axes>"
      ]
     },
     "metadata": {
      "needs_background": "light"
     },
     "output_type": "display_data"
    }
   ],
   "source": [
    "plt.figure()\n",
    "plt.imshow(train_data[0])\n",
    "plt.colorbar()\n",
    "plt.axis(False)\n",
    "print('Image Label:', train_labels[0], 'Image Shape:', train_data[0].shape)"
   ]
  },
  {
   "cell_type": "markdown",
   "metadata": {},
   "source": [
    "We can see that we have 28x28 images with only one channel. We need to normalize our data, which we will do inside of our model, but we will reshape our data slightly before training."
   ]
  },
  {
   "cell_type": "code",
   "execution_count": 68,
   "metadata": {},
   "outputs": [],
   "source": [
    "train_data = train_data.reshape((train_data.shape[0], 28, 28, 1))\n",
    "test_data = test_data.reshape((test_data.shape[0], 28, 28, 1))"
   ]
  },
  {
   "cell_type": "markdown",
   "metadata": {},
   "source": [
    "Now we will build our model. We are rescaling the input in the first layer, and then using convolutions followed by max pooling followed by densely connected layers with a dropout. The dropout layer is what we will be using for our stochastic forward pass."
   ]
  },
  {
   "cell_type": "code",
   "execution_count": 69,
   "metadata": {},
   "outputs": [
    {
     "name": "stdout",
     "output_type": "stream",
     "text": [
      "Model: \"sequential_3\"\n",
      "_________________________________________________________________\n",
      "Layer (type)                 Output Shape              Param #   \n",
      "=================================================================\n",
      "rescaling_3 (Rescaling)      (None, 28, 28, 1)         0         \n",
      "_________________________________________________________________\n",
      "conv2d_6 (Conv2D)            (None, 28, 28, 28)        280       \n",
      "_________________________________________________________________\n",
      "conv2d_7 (Conv2D)            (None, 26, 26, 10)        2530      \n",
      "_________________________________________________________________\n",
      "max_pooling2d_3 (MaxPooling2 (None, 13, 13, 10)        0         \n",
      "_________________________________________________________________\n",
      "flatten_3 (Flatten)          (None, 1690)              0         \n",
      "_________________________________________________________________\n",
      "dense_7 (Dense)              (None, 100)               169100    \n",
      "_________________________________________________________________\n",
      "dropout_4 (Dropout)          (None, 100)               0         \n",
      "_________________________________________________________________\n",
      "dense_8 (Dense)              (None, 10)                1010      \n",
      "=================================================================\n",
      "Total params: 172,920\n",
      "Trainable params: 172,920\n",
      "Non-trainable params: 0\n",
      "_________________________________________________________________\n"
     ]
    },
    {
     "data": {
      "text/plain": [
       "[PhysicalDevice(name='/physical_device:GPU:0', device_type='GPU')]"
      ]
     },
     "execution_count": 69,
     "metadata": {},
     "output_type": "execute_result"
    }
   ],
   "source": [
    "from tensorflow.keras import layers\n",
    "\n",
    "model = tf.keras.Sequential([\n",
    "    #Specify the input\n",
    "    tf.keras.Input((28,28,1)),\n",
    "    \n",
    "    #Rescale the input\n",
    "    layers.experimental.preprocessing.Rescaling(1./255),\n",
    "    \n",
    "    #The meat of the model\n",
    "    layers.Conv2D(28, (3,3), padding='same', activation='relu', input_shape=(28,28,1)),\n",
    "    layers.Conv2D(10, (3,3), activation='relu'),\n",
    "    layers.MaxPooling2D((2,2)),\n",
    "    layers.Flatten(),\n",
    "    layers.Dense(100, activation='relu'),\n",
    "    layers.Dropout(0.4),\n",
    "    layers.Dense(10, activation='softmax')\n",
    "])\n",
    "\n",
    "model.summary()\n",
    "tf.config.experimental.list_physical_devices('GPU')"
   ]
  },
  {
   "cell_type": "markdown",
   "metadata": {},
   "source": [
    "We note that this is probably way more than we need for this problem, but in the interest of learning it is good. Also note that if GPU is enabled for TensorFlow the device will be printed above."
   ]
  },
  {
   "cell_type": "code",
   "execution_count": 70,
   "metadata": {},
   "outputs": [
    {
     "name": "stdout",
     "output_type": "stream",
     "text": [
      "Epoch 1/2\n",
      "3000/3000 [==============================] - 16s 5ms/step - loss: 1.5662 - accuracy: 0.8979\n",
      "Epoch 2/2\n",
      "3000/3000 [==============================] - 16s 5ms/step - loss: 1.5067 - accuracy: 0.9547\n"
     ]
    }
   ],
   "source": [
    "#Only training for two epochs, but that seems to be fine\n",
    "model.compile(optimizer=tf.keras.optimizers.Adam(),\n",
    "                loss=tf.keras.losses.SparseCategoricalCrossentropy(from_logits=True),\n",
    "                metrics=['accuracy'])\n",
    "history = model.fit(train_data, train_labels, epochs=2, \n",
    "            batch_size=20)"
   ]
  },
  {
   "cell_type": "code",
   "execution_count": 71,
   "metadata": {},
   "outputs": [
    {
     "name": "stdout",
     "output_type": "stream",
     "text": [
      "Accuracy: 97.46000170707703\n"
     ]
    }
   ],
   "source": [
    "_, acc = model.evaluate(test_data, test_labels, verbose=0)\n",
    "print('Accuracy:', acc*100.0)"
   ]
  },
  {
   "cell_type": "markdown",
   "metadata": {},
   "source": [
    "We seem to be getting good accuracy, but lets find an image where the network fails and then apply our stochastic forward pass."
   ]
  },
  {
   "cell_type": "code",
   "execution_count": 72,
   "metadata": {},
   "outputs": [],
   "source": [
    "#Iterate through test images looking for failure\n",
    "#We will look for 10 failures\n",
    "\n",
    "fail = []\n",
    "count = 0\n",
    "for i, image in enumerate(test_data):\n",
    "    pred = np.argmax(model.predict(image.reshape(1,28,28,1)))\n",
    "    if pred != test_labels[i]:\n",
    "        fail.append((image, pred, test_labels[i]))\n",
    "        \n",
    "        count += 1\n",
    "        \n",
    "        if count>=10:\n",
    "            break"
   ]
  },
  {
   "cell_type": "code",
   "execution_count": 82,
   "metadata": {},
   "outputs": [
    {
     "name": "stdout",
     "output_type": "stream",
     "text": [
      "Prediction:3, Actual:5\n"
     ]
    },
    {
     "data": {
      "image/png": "[encoded data removed]",
      "text/plain": [
       "<Figure size 432x288 with 1 Axes>"
      ]
     },
     "metadata": {
      "needs_background": "light"
     },
     "output_type": "display_data"
    }
   ],
   "source": [
    "idx = 8 #Just pick a random index\n",
    "\n",
    "plt.figure()\n",
    "plt.imshow(fail[idx][0])\n",
    "plt.axis(False);\n",
    "print('Prediction:%i, Actual:%i' % (fail[idx][1], fail[idx][2]))"
   ]
  },
  {
   "cell_type": "markdown",
   "metadata": {},
   "source": [
    "The image above and the prediction will change based on the learning. Anyways, we can see that the network is failing as its prediction is not the true label.\n",
    "\n",
    "As a brief aside, the goal of this exercise is to show that stochastic forward passes can be useful in classification. In order to achieve this we need to be able to use the dropout layer in prediction. In other words we want to drop connections during inference to get a distribution of classifications. Sounds like a simple thing right? Well apparently not, and boy what a rabbit hole it was trying to figure it out. In the end I have borrowed someones code from this [GitHub issue](https://github.com/tensorflow/tensorflow/issues/28484) to define a custom dropout layer that is always \"on\". We then remove replace the last two layers of the model to define a new model that will use stochastic forward passes in inference."
   ]
  },
  {
   "cell_type": "code",
   "execution_count": 76,
   "metadata": {},
   "outputs": [],
   "source": [
    "class Dropout(tf.keras.layers.Layer):\n",
    "    \"\"\"Always-on dropout layer, i.e. it does not respect the training flag set to\n",
    "    true by model.fit and false by model.predict. Unlike tf.keras.layers.Dropout,\n",
    "    this layer does not return input unchanged if training=false, but always\n",
    "    randomly drops a fraction self.rate of the input nodes.\n",
    "    \"\"\"\n",
    "\n",
    "    def __init__(self, rate, **kwargs):\n",
    "        super().__init__(**kwargs)\n",
    "        self.rate = rate\n",
    "\n",
    "    def call(self, inputs):\n",
    "        return tf.nn.dropout(inputs, self.rate)\n",
    "\n",
    "    def get_config(self):\n",
    "        \"\"\"enables model.save and restoration through tf.keras.models.load_model\"\"\"\n",
    "        config = super().get_config()\n",
    "        config[\"rate\"] = self.rate\n",
    "        return config"
   ]
  },
  {
   "cell_type": "code",
   "execution_count": 77,
   "metadata": {},
   "outputs": [],
   "source": [
    "denseW = model.layers[-1].get_weights() #Save weights from last layer\n",
    "model.pop() #Remove last layer\n",
    "model.pop() #Remove dropout layer"
   ]
  },
  {
   "cell_type": "markdown",
   "metadata": {},
   "source": [
    "We have turned the dropout up slightly."
   ]
  },
  {
   "cell_type": "code",
   "execution_count": 78,
   "metadata": {},
   "outputs": [
    {
     "name": "stdout",
     "output_type": "stream",
     "text": [
      "Model: \"sequential_3\"\n",
      "_________________________________________________________________\n",
      "Layer (type)                 Output Shape              Param #   \n",
      "=================================================================\n",
      "rescaling_3 (Rescaling)      (None, 28, 28, 1)         0         \n",
      "_________________________________________________________________\n",
      "conv2d_6 (Conv2D)            (None, 28, 28, 28)        280       \n",
      "_________________________________________________________________\n",
      "conv2d_7 (Conv2D)            (None, 26, 26, 10)        2530      \n",
      "_________________________________________________________________\n",
      "max_pooling2d_3 (MaxPooling2 (None, 13, 13, 10)        0         \n",
      "_________________________________________________________________\n",
      "flatten_3 (Flatten)          (None, 1690)              0         \n",
      "_________________________________________________________________\n",
      "dense_7 (Dense)              (None, 100)               169100    \n",
      "_________________________________________________________________\n",
      "dropout_5 (Dropout)          (None, 100)               0         \n",
      "_________________________________________________________________\n",
      "dense_9 (Dense)              (None, 10)                1010      \n",
      "=================================================================\n",
      "Total params: 172,920\n",
      "Trainable params: 172,920\n",
      "Non-trainable params: 0\n",
      "_________________________________________________________________\n"
     ]
    }
   ],
   "source": [
    "model.add(Dropout(rate=0.6)) #Add always on dropout layer\n",
    "model.add(tf.keras.layers.Dense(10, activation='softmax')) #Add dense layer\n",
    "model.compile()\n",
    "model.layers[-1].set_weights(denseW) #Replace weights\n",
    "model.summary()"
   ]
  },
  {
   "cell_type": "code",
   "execution_count": 83,
   "metadata": {},
   "outputs": [
    {
     "data": {
      "image/png": "[encoded data removed]",
      "text/plain": [
       "<Figure size 432x288 with 1 Axes>"
      ]
     },
     "metadata": {
      "needs_background": "light"
     },
     "output_type": "display_data"
    }
   ],
   "source": [
    "n=100 #Number of passes\n",
    "x=fail[idx][0].reshape((1,28,28,1)) #Input that standard network fails on\n",
    "\n",
    "dist = np.zeros(n)\n",
    "for i in range(n):\n",
    "    prediction = np.argmax(model.predict(x))\n",
    "    dist[i] = prediction\n",
    "\n",
    "histplot(dist, discrete=True, stat='density');"
   ]
  },
  {
   "cell_type": "markdown",
   "metadata": {},
   "source": [
    "In the plot above we see the distribution of predictions made by the model with stochastic forward pass. It doesn't seem to be working too well as it is still predicted 3 to be most likely, but we can see some uncertainity. I think further investigation is needed to determine the real merit. It is possible that the convolution nature is actually hurting the ability for stochastic forward passes to be effective."
   ]
  },
  {
   "cell_type": "markdown",
   "metadata": {},
   "source": [
    "### Exercise: Inverse Kinematics"
   ]
  },
  {
   "cell_type": "markdown",
   "metadata": {},
   "source": [
    "In this exercise we are training a neural network to predict the joint angles necessary to position the end affector in a specific coordinate in space. The code for this can be found in the env_sim folder, and inside each python file I have indicated the parts edited by me."
   ]
  },
  {
   "cell_type": "markdown",
   "metadata": {},
   "source": [
    "- **neural_network.py:** This file defines a network for use in predicting IK joint angles. Using PyTorch I have defined a simple linear network with dropout, and the associated forward pass function.\n",
    "\n",
    "I have also edited a few other files to make it easy to run in Jupyter."
   ]
  },
  {
   "cell_type": "code",
   "execution_count": 2,
   "metadata": {},
   "outputs": [],
   "source": [
    "import env_sim as sim\n",
    "import numpy as np"
   ]
  },
  {
   "cell_type": "markdown",
   "metadata": {},
   "source": [
    "We can first look at the analytic simulation using the IK equations. Running the code below will start a simulation where you can indicate points on the screen and the robotic arm will move there if possible."
   ]
  },
  {
   "cell_type": "code",
   "execution_count": 3,
   "metadata": {},
   "outputs": [
    {
     "ename": "SystemExit",
     "evalue": "",
     "output_type": "error",
     "traceback": [
      "An exception has occurred, use %tb to see the full traceback.\n",
      "\u001b[0;31mSystemExit\u001b[0m\n"
     ]
    }
   ],
   "source": [
    "sim.IK_analytic_sim() #Runs analytic IK simulation"
   ]
  },
  {
   "cell_type": "markdown",
   "metadata": {},
   "source": [
    "Now lets train a neural network to do the inverse Kinematics for us."
   ]
  },
  {
   "cell_type": "code",
   "execution_count": 4,
   "metadata": {},
   "outputs": [],
   "source": [
    "#Import training data\n",
    "train = np.load('env_sim/data/train.npy')\n",
    "data = train[:,:2]\n",
    "labels = train[:,2:]"
   ]
  },
  {
   "cell_type": "code",
   "execution_count": 5,
   "metadata": {},
   "outputs": [
    {
     "name": "stdout",
     "output_type": "stream",
     "text": [
      "Input: [-302. -212.]\n",
      "Output: [-0.04783804 -0.99885511  0.84320638  0.53759   ]\n"
     ]
    }
   ],
   "source": [
    "print('Input:', data[0])\n",
    "print('Output:',labels[0])"
   ]
  },
  {
   "cell_type": "markdown",
   "metadata": {},
   "source": [
    "The input is an end effector location, but we might wonder why there are four outputs as opposed to just two for the two joint angles. The four outputs are actually the sin and cos of the angles, and this allows us to squash our ouput between -1 and 1, while still retaining enough information to move the robot arm."
   ]
  },
  {
   "cell_type": "code",
   "execution_count": 7,
   "metadata": {},
   "outputs": [
    {
     "name": "stdout",
     "output_type": "stream",
     "text": [
      "Using GPU Acceleration\n",
      "Normalizing Input and Output\n",
      "Training\n",
      "Train Epoch: 0 \tLoss: 0.463407\n",
      "Train Epoch: 1 \tLoss: 0.414498\n",
      "\n",
      "Test set: Average loss: 0.3924\n",
      "Train Epoch: 2 \tLoss: 0.380114\n",
      "\n",
      "Test set: Average loss: 0.3625\n",
      "Train Epoch: 3 \tLoss: 0.354663\n",
      "\n",
      "Test set: Average loss: 0.3407\n",
      "Train Epoch: 4 \tLoss: 0.337178\n",
      "\n",
      "Test set: Average loss: 0.3265\n",
      "Train Epoch: 5 \tLoss: 0.325689\n",
      "\n",
      "Test set: Average loss: 0.3167\n",
      "Train Epoch: 6 \tLoss: 0.316748\n",
      "\n",
      "Test set: Average loss: 0.3073\n",
      "Train Epoch: 7 \tLoss: 0.306722\n",
      "\n",
      "Test set: Average loss: 0.2963\n",
      "Train Epoch: 8 \tLoss: 0.295289\n",
      "\n",
      "Test set: Average loss: 0.2833\n",
      "Train Epoch: 9 \tLoss: 0.281815\n",
      "\n",
      "Test set: Average loss: 0.2686\n",
      "Train Epoch: 10 \tLoss: 0.266241\n",
      "\n",
      "Test set: Average loss: 0.2522\n",
      "Train Epoch: 11 \tLoss: 0.250200\n",
      "\n",
      "Test set: Average loss: 0.2355\n",
      "Train Epoch: 12 \tLoss: 0.233814\n",
      "\n",
      "Test set: Average loss: 0.2191\n",
      "Train Epoch: 13 \tLoss: 0.218223\n",
      "\n",
      "Test set: Average loss: 0.2031\n",
      "Train Epoch: 14 \tLoss: 0.203950\n",
      "\n",
      "Test set: Average loss: 0.1891\n",
      "Train Epoch: 15 \tLoss: 0.191429\n",
      "\n",
      "Test set: Average loss: 0.1769\n",
      "Train Epoch: 16 \tLoss: 0.181138\n",
      "\n",
      "Test set: Average loss: 0.1674\n",
      "Train Epoch: 17 \tLoss: 0.173350\n",
      "\n",
      "Test set: Average loss: 0.1628\n",
      "Train Epoch: 18 \tLoss: 0.170493\n",
      "\n",
      "Test set: Average loss: 0.1668\n",
      "Train Epoch: 19 \tLoss: 0.175901\n",
      "\n",
      "Test set: Average loss: 0.1728\n",
      "Train Epoch: 20 \tLoss: 0.188551\n",
      "\n",
      "Test set: Average loss: 0.1717\n",
      "Train Epoch: 21 \tLoss: 0.188863\n",
      "\n",
      "Test set: Average loss: 0.1710\n",
      "Train Epoch: 22 \tLoss: 0.187838\n",
      "\n",
      "Test set: Average loss: 0.1561\n",
      "Train Epoch: 23 \tLoss: 0.174438\n",
      "\n",
      "Test set: Average loss: 0.1569\n",
      "Train Epoch: 24 \tLoss: 0.163493\n",
      "\n",
      "Test set: Average loss: 0.1549\n",
      "Train Epoch: 25 \tLoss: 0.163484\n",
      "\n",
      "Test set: Average loss: 0.1521\n",
      "Train Epoch: 26 \tLoss: 0.162201\n",
      "\n",
      "Test set: Average loss: 0.1518\n",
      "Train Epoch: 27 \tLoss: 0.161174\n",
      "\n",
      "Test set: Average loss: 0.1515\n",
      "Train Epoch: 28 \tLoss: 0.160961\n",
      "\n",
      "Test set: Average loss: 0.1514\n",
      "Train Epoch: 29 \tLoss: 0.160864\n",
      "\n",
      "Test set: Average loss: 0.1512\n",
      "Train Epoch: 30 \tLoss: 0.160807\n",
      "\n",
      "Test set: Average loss: 0.1510\n",
      "Train Epoch: 31 \tLoss: 0.160334\n",
      "\n",
      "Test set: Average loss: 0.1510\n",
      "Train Epoch: 32 \tLoss: 0.160432\n",
      "\n",
      "Test set: Average loss: 0.1508\n",
      "Train Epoch: 33 \tLoss: 0.159925\n",
      "\n",
      "Test set: Average loss: 0.1508\n",
      "Train Epoch: 34 \tLoss: 0.160220\n",
      "\n",
      "Test set: Average loss: 0.1505\n",
      "Train Epoch: 35 \tLoss: 0.159657\n",
      "\n",
      "Test set: Average loss: 0.1508\n",
      "Train Epoch: 36 \tLoss: 0.159392\n",
      "\n",
      "Test set: Average loss: 0.1504\n",
      "Train Epoch: 37 \tLoss: 0.159191\n",
      "\n",
      "Test set: Average loss: 0.1505\n",
      "Train Epoch: 38 \tLoss: 0.159144\n",
      "\n",
      "Test set: Average loss: 0.1498\n",
      "Train Epoch: 39 \tLoss: 0.159208\n",
      "\n",
      "Test set: Average loss: 0.1502\n",
      "Train Epoch: 40 \tLoss: 0.159189\n",
      "\n",
      "Test set: Average loss: 0.1499\n",
      "Train Epoch: 41 \tLoss: 0.158587\n",
      "\n",
      "Test set: Average loss: 0.1498\n",
      "Train Epoch: 42 \tLoss: 0.158515\n",
      "\n",
      "Test set: Average loss: 0.1495\n",
      "Train Epoch: 43 \tLoss: 0.158326\n",
      "\n",
      "Test set: Average loss: 0.1493\n",
      "Train Epoch: 44 \tLoss: 0.158236\n",
      "\n",
      "Test set: Average loss: 0.1491\n",
      "Train Epoch: 45 \tLoss: 0.158103\n",
      "\n",
      "Test set: Average loss: 0.1491\n",
      "Train Epoch: 46 \tLoss: 0.157781\n",
      "\n",
      "Test set: Average loss: 0.1487\n",
      "Train Epoch: 47 \tLoss: 0.157880\n",
      "\n",
      "Test set: Average loss: 0.1488\n",
      "Train Epoch: 48 \tLoss: 0.157421\n",
      "\n",
      "Test set: Average loss: 0.1489\n",
      "Train Epoch: 49 \tLoss: 0.157302\n",
      "\n",
      "Test set: Average loss: 0.1484\n",
      "Train Epoch: 50 \tLoss: 0.157218\n",
      "\n",
      "Test set: Average loss: 0.1483\n",
      "Train Epoch: 51 \tLoss: 0.156845\n",
      "\n",
      "Test set: Average loss: 0.1480\n",
      "Train Epoch: 52 \tLoss: 0.156462\n",
      "\n",
      "Test set: Average loss: 0.1477\n",
      "Train Epoch: 53 \tLoss: 0.156443\n",
      "\n",
      "Test set: Average loss: 0.1473\n",
      "Train Epoch: 54 \tLoss: 0.156118\n",
      "\n",
      "Test set: Average loss: 0.1471\n",
      "Train Epoch: 55 \tLoss: 0.155946\n",
      "\n",
      "Test set: Average loss: 0.1467\n",
      "Train Epoch: 56 \tLoss: 0.155666\n",
      "\n",
      "Test set: Average loss: 0.1465\n",
      "Train Epoch: 57 \tLoss: 0.155052\n",
      "\n",
      "Test set: Average loss: 0.1465\n",
      "Train Epoch: 58 \tLoss: 0.154974\n",
      "\n",
      "Test set: Average loss: 0.1458\n",
      "Train Epoch: 59 \tLoss: 0.154990\n",
      "\n",
      "Test set: Average loss: 0.1455\n",
      "Train Epoch: 60 \tLoss: 0.154406\n",
      "\n",
      "Test set: Average loss: 0.1455\n",
      "Train Epoch: 61 \tLoss: 0.154236\n",
      "\n",
      "Test set: Average loss: 0.1450\n",
      "Train Epoch: 62 \tLoss: 0.153856\n",
      "\n",
      "Test set: Average loss: 0.1446\n",
      "Train Epoch: 63 \tLoss: 0.153297\n",
      "\n",
      "Test set: Average loss: 0.1442\n",
      "Train Epoch: 64 \tLoss: 0.152966\n",
      "\n",
      "Test set: Average loss: 0.1436\n",
      "Train Epoch: 65 \tLoss: 0.152375\n",
      "\n",
      "Test set: Average loss: 0.1428\n",
      "Train Epoch: 66 \tLoss: 0.151782\n",
      "\n",
      "Test set: Average loss: 0.1422\n",
      "Train Epoch: 67 \tLoss: 0.151611\n",
      "\n",
      "Test set: Average loss: 0.1419\n",
      "Train Epoch: 68 \tLoss: 0.151094\n",
      "\n",
      "Test set: Average loss: 0.1412\n",
      "Train Epoch: 69 \tLoss: 0.150265\n",
      "\n",
      "Test set: Average loss: 0.1403\n",
      "Train Epoch: 70 \tLoss: 0.150045\n",
      "\n",
      "Test set: Average loss: 0.1396\n",
      "Train Epoch: 71 \tLoss: 0.149197\n",
      "\n",
      "Test set: Average loss: 0.1390\n",
      "Train Epoch: 72 \tLoss: 0.149173\n",
      "\n",
      "Test set: Average loss: 0.1383\n",
      "Train Epoch: 73 \tLoss: 0.147909\n",
      "\n",
      "Test set: Average loss: 0.1372\n",
      "Train Epoch: 74 \tLoss: 0.147353\n",
      "\n",
      "Test set: Average loss: 0.1361\n",
      "Train Epoch: 75 \tLoss: 0.146296\n",
      "\n",
      "Test set: Average loss: 0.1352\n",
      "Train Epoch: 76 \tLoss: 0.145246\n",
      "\n",
      "Test set: Average loss: 0.1341\n",
      "Train Epoch: 77 \tLoss: 0.144926\n",
      "\n",
      "Test set: Average loss: 0.1333\n",
      "Train Epoch: 78 \tLoss: 0.144279\n",
      "\n",
      "Test set: Average loss: 0.1328\n",
      "Train Epoch: 79 \tLoss: 0.144609\n",
      "\n",
      "Test set: Average loss: 0.1331\n",
      "Train Epoch: 80 \tLoss: 0.147340\n",
      "\n",
      "Test set: Average loss: 0.1330\n",
      "Train Epoch: 81 \tLoss: 0.150048\n",
      "\n",
      "Test set: Average loss: 0.1301\n",
      "Train Epoch: 82 \tLoss: 0.149651\n",
      "\n",
      "Test set: Average loss: 0.1274\n",
      "Train Epoch: 83 \tLoss: 0.144666\n",
      "\n",
      "Test set: Average loss: 0.1263\n",
      "Train Epoch: 84 \tLoss: 0.138863\n",
      "\n",
      "Test set: Average loss: 0.1250\n",
      "Train Epoch: 85 \tLoss: 0.136880\n",
      "\n",
      "Test set: Average loss: 0.1230\n",
      "Train Epoch: 86 \tLoss: 0.136120\n",
      "\n",
      "Test set: Average loss: 0.1211\n",
      "Train Epoch: 87 \tLoss: 0.134711\n",
      "\n",
      "Test set: Average loss: 0.1192\n",
      "Train Epoch: 88 \tLoss: 0.133236\n",
      "\n",
      "Test set: Average loss: 0.1176\n",
      "Train Epoch: 89 \tLoss: 0.131635\n",
      "\n",
      "Test set: Average loss: 0.1160\n",
      "Train Epoch: 90 \tLoss: 0.130351\n",
      "\n",
      "Test set: Average loss: 0.1142\n",
      "Train Epoch: 91 \tLoss: 0.128990\n",
      "\n",
      "Test set: Average loss: 0.1127\n",
      "Train Epoch: 92 \tLoss: 0.127406\n",
      "\n",
      "Test set: Average loss: 0.1109\n",
      "Train Epoch: 93 \tLoss: 0.126547\n",
      "\n",
      "Test set: Average loss: 0.1093\n",
      "Train Epoch: 94 \tLoss: 0.124892\n",
      "\n",
      "Test set: Average loss: 0.1072\n",
      "Train Epoch: 95 \tLoss: 0.123932\n",
      "\n",
      "Test set: Average loss: 0.1057\n",
      "Train Epoch: 96 \tLoss: 0.123177\n",
      "\n",
      "Test set: Average loss: 0.1037\n",
      "Train Epoch: 97 \tLoss: 0.121494\n",
      "\n",
      "Test set: Average loss: 0.1024\n",
      "Train Epoch: 98 \tLoss: 0.121029\n",
      "\n",
      "Test set: Average loss: 0.1010\n",
      "Train Epoch: 99 \tLoss: 0.120715\n",
      "\n",
      "Test set: Average loss: 0.0996\n",
      "\n",
      "Test set: Average loss: 0.0996\n",
      "Best loss 0.09956555469677998\n"
     ]
    }
   ],
   "source": [
    "'''\n",
    "The number of epochs can be changed. If GPU is not enabled then\n",
    "it will not be used.\n",
    "'''\n",
    "model = sim.runTrain(100)"
   ]
  },
  {
   "cell_type": "markdown",
   "metadata": {},
   "source": [
    "Running the code below will run a similar simulation to the analytic version, but this time the joint angles are being calculated by the model."
   ]
  },
  {
   "cell_type": "code",
   "execution_count": 8,
   "metadata": {},
   "outputs": [
    {
     "name": "stdout",
     "output_type": "stream",
     "text": [
      "Using GPU Acceleration\n"
     ]
    },
    {
     "ename": "SystemExit",
     "evalue": "",
     "output_type": "error",
     "traceback": [
      "An exception has occurred, use %tb to see the full traceback.\n",
      "\u001b[0;31mSystemExit\u001b[0m\n"
     ]
    }
   ],
   "source": [
    "sim.IK_NN_sim(model) #Run a simulation using network to do IK"
   ]
  },
  {
   "cell_type": "markdown",
   "metadata": {},
   "source": [
    "In the simulation we can see that the network is doing a great job of calculating the IK. It is perhaps slightly worse, but for the most part it is hard to tell."
   ]
  },
  {
   "cell_type": "markdown",
   "metadata": {},
   "source": [
    "This last simulation is still using the network model, but his time it is using stochastic forward passes to choose the most likely join angle."
   ]
  },
  {
   "cell_type": "code",
   "execution_count": 9,
   "metadata": {},
   "outputs": [
    {
     "name": "stdout",
     "output_type": "stream",
     "text": [
      "Using GPU Acceleration\n"
     ]
    },
    {
     "ename": "SystemExit",
     "evalue": "",
     "output_type": "error",
     "traceback": [
      "An exception has occurred, use %tb to see the full traceback.\n",
      "\u001b[0;31mSystemExit\u001b[0m\n"
     ]
    },
    {
     "data": {
      "image/png": "[encoded data removed]",
      "text/plain": [
       "<Figure size 432x288 with 2 Axes>"
      ]
     },
     "metadata": {},
     "output_type": "display_data"
    }
   ],
   "source": [
    "sim.IK_dropNN_sim(model)"
   ]
  }
 ],
 "metadata": {
  "kernelspec": {
   "display_name": "Python 3",
   "language": "python",
   "name": "python3"
  },
  "language_info": {
   "codemirror_mode": {
    "name": "ipython",
    "version": 3
   },
   "file_extension": ".py",
   "mimetype": "text/x-python",
   "name": "python",
   "nbconvert_exporter": "python",
   "pygments_lexer": "ipython3",
   "version": "3.8.5"
  }
 },
 "nbformat": 4,
 "nbformat_minor": 4
}
