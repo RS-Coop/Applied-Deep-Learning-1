{
 "cells": [
  {
   "cell_type": "markdown",
   "metadata": {},
   "source": [
    "# Build the Model"
   ]
  },
  {
   "cell_type": "code",
   "execution_count": 2,
   "metadata": {},
   "outputs": [
    {
     "name": "stdout",
     "output_type": "stream",
     "text": [
      "cuda:0\n"
     ]
    }
   ],
   "source": [
    "import json\n",
    "import torch\n",
    "from core.model import SPVStd, SPVRnn\n",
    "from core.train import Trainer\n",
    "from core.evaluate import Evaluator\n",
    "\n",
    "net_id = '@20'\n",
    "\n",
    "device = 'cpu'\n",
    "if torch.cuda.is_available():\n",
    "    device = 'cuda:0'\n",
    "    \n",
    "print(device)"
   ]
  },
  {
   "cell_type": "code",
   "execution_count": 3,
   "metadata": {},
   "outputs": [],
   "source": [
    "#Load config\n",
    "net_config = json.load(open('core/pretrained/net{}.config'.format(net_id)))\n",
    "\n",
    "#Load parameters\n",
    "params = torch.load('core/pretrained/init{}'.format(net_id),\n",
    "                 map_location=device)['model']"
   ]
  },
  {
   "cell_type": "code",
   "execution_count": 4,
   "metadata": {},
   "outputs": [],
   "source": [
    "#Build the model\n",
    "model = SPVStd(net_config, params, device)"
   ]
  },
  {
   "cell_type": "markdown",
   "metadata": {},
   "source": [
    "# Training the Model"
   ]
  },
  {
   "cell_type": "code",
   "execution_count": 6,
   "metadata": {},
   "outputs": [
    {
     "name": "stdout",
     "output_type": "stream",
     "text": [
      "Epoch: 0, Epoch: 1,                             Loss: 2.8393607139587402\n",
      "Epoch: 0, Epoch: 10,                             Loss: 2.4355148209465876\n",
      "Epoch: 0, Epoch: 20,                             Loss: 2.1940383076667787\n",
      "Epoch: 0, Epoch: 30,                             Loss: 1.7569369196891784\n",
      "Epoch: 0, Epoch: 40,                             Loss: 1.6785841703414917\n",
      "Epoch: 0, Epoch: 50,                             Loss: 1.7787338852882386\n",
      "Epoch: 0, Epoch: 60,                             Loss: 1.9751947045326232\n",
      "Epoch: 0, Epoch: 70,                             Loss: 1.4852619647979737\n",
      "Epoch: 0, Epoch: 80,                             Loss: 1.673235011100769\n",
      "Epoch: 0, Epoch: 90,                             Loss: 2.0528666019439696\n",
      "Epoch: 0, Epoch: 100,                             Loss: 1.6998315334320069\n",
      "Epoch: 0, Epoch: 110,                             Loss: 1.636649525165558\n",
      "Epoch: 0, Epoch: 120,                             Loss: 1.7049019098281861\n",
      "Epoch: 0, Epoch: 130,                             Loss: 1.745469582080841\n",
      "Epoch: 0, Epoch: 140,                             Loss: 1.9423330426216125\n",
      "Epoch: 0, Epoch: 150,                             Loss: 1.7548123598098755\n",
      "Epoch: 0, Epoch: 160,                             Loss: 1.658604896068573\n"
     ]
    }
   ],
   "source": [
    "T = Trainer()\n",
    "\n",
    "l = T.train(model, 'core/data/datasets/nuscenes', device)"
   ]
  },
  {
   "cell_type": "markdown",
   "metadata": {},
   "source": [
    "# Evaluating a Model"
   ]
  },
  {
   "cell_type": "code",
   "execution_count": 7,
   "metadata": {},
   "outputs": [],
   "source": [
    "E = Evaluator(num_classes=19)\n",
    "\n",
    "miou, l = E.evaluate(model, 'core/data/datasets/nuscenes', device)"
   ]
  },
  {
   "cell_type": "code",
   "execution_count": 8,
   "metadata": {},
   "outputs": [
    {
     "name": "stdout",
     "output_type": "stream",
     "text": [
      "0.5263157894736842\n",
      "[5.979290962219238]\n"
     ]
    }
   ],
   "source": [
    "print(miou)\n",
    "print(l)"
   ]
  },
  {
   "cell_type": "code",
   "execution_count": null,
   "metadata": {},
   "outputs": [],
   "source": []
  }
 ],
 "metadata": {
  "kernelspec": {
   "display_name": "Python 3",
   "language": "python",
   "name": "python3"
  },
  "language_info": {
   "codemirror_mode": {
    "name": "ipython",
    "version": 3
   },
   "file_extension": ".py",
   "mimetype": "text/x-python",
   "name": "python",
   "nbconvert_exporter": "python",
   "pygments_lexer": "ipython3",
   "version": "3.8.5"
  }
 },
 "nbformat": 4,
 "nbformat_minor": 4
}
